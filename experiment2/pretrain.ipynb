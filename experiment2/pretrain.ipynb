{
 "cells": [
  {
   "cell_type": "markdown",
   "id": "73954db2",
   "metadata": {},
   "source": [
    "# Generate Training Data Files\n",
    "\n",
    "建立四個檔案用於訓練：\n",
    "- train.txt\n",
    "- val.txt  \n",
    "- test.txt\n",
    "- disease_map.txt\n",
    "\n",
    "這些檔案與official資料夾格式相同。"
   ]
  },
  {
   "cell_type": "code",
   "execution_count": 4,
   "id": "57b9b77d",
   "metadata": {},
   "outputs": [
    {
     "name": "stdout",
     "output_type": "stream",
     "text": [
      "Train shape: (2094, 7)\n",
      "Val shape: (300, 7)\n",
      "Test shape: (598, 7)\n",
      "\n",
      "Train columns: ['L-CC', 'R-CC', 'L-MLO', 'R-MLO', 'label', 'description', 'patient_id']\n",
      "Train head:\n",
      "                                  L-CC                                 R-CC  \\\n",
      "0  Category 3/XA2016080015193/L-CC.jpg  Category 3/XA2016080015193/R-CC.jpg   \n",
      "1  Category 2/XA2016070003097/L-CC.jpg  Category 2/XA2016070003097/R-CC.jpg   \n",
      "2  Category 1/XA2017030012689/L-CC.jpg  Category 1/XA2017030012689/R-CC.jpg   \n",
      "3  Category 0/XA2017050007157/L-CC.jpg  Category 0/XA2017050007157/R-CC.jpg   \n",
      "4  Category 0/XA2016080012358/L-CC.jpg  Category 0/XA2016080012358/R-CC.jpg   \n",
      "\n",
      "                                  L-MLO                                 R-MLO  \\\n",
      "0  Category 3/XA2016080015193/L-MLO.jpg  Category 3/XA2016080015193/R-MLO.jpg   \n",
      "1  Category 2/XA2016070003097/L-MLO.jpg  Category 2/XA2016070003097/R-MLO.jpg   \n",
      "2  Category 1/XA2017030012689/L-MLO.jpg  Category 1/XA2017030012689/R-MLO.jpg   \n",
      "3  Category 0/XA2017050007157/L-MLO.jpg  Category 0/XA2017050007157/R-MLO.jpg   \n",
      "4  Category 0/XA2016080012358/L-MLO.jpg  Category 0/XA2016080012358/R-MLO.jpg   \n",
      "\n",
      "   label                                        description  \\\n",
      "0      3  Film of mammography\\n                Made on m...   \n",
      "1      2  Film of mammography\\n                Made on m...   \n",
      "2      1  Film of  report_type mammography\\n            ...   \n",
      "3      0  Film of  Screening mammography\\n              ...   \n",
      "4      0  Film of mammography\\n                Made on m...   \n",
      "\n",
      "                   patient_id  \n",
      "0  Category 3/XA2016080015193  \n",
      "1  Category 2/XA2016070003097  \n",
      "2  Category 1/XA2017030012689  \n",
      "3  Category 0/XA2017050007157  \n",
      "4  Category 0/XA2016080012358  \n"
     ]
    }
   ],
   "source": [
    "import pandas as pd\n",
    "import os\n",
    "from pathlib import Path\n",
    "\n",
    "# Set paths\n",
    "base_path = Path(\"/home/stoneyew/Desktop/pacs\")\n",
    "datasets_path = base_path / \"datasets\"\n",
    "output_path = base_path / \"experiment2\"\n",
    "\n",
    "# Read the CSV files\n",
    "train_df = pd.read_csv(datasets_path / \"train_labels.csv\")\n",
    "val_df = pd.read_csv(datasets_path / \"val_labels.csv\")\n",
    "test_df = pd.read_csv(datasets_path / \"test_labels.csv\")\n",
    "\n",
    "print(\"Train shape:\", train_df.shape)\n",
    "print(\"Val shape:\", val_df.shape)\n",
    "print(\"Test shape:\", test_df.shape)\n",
    "print(\"\\nTrain columns:\", train_df.columns.tolist())\n",
    "print(\"Train head:\")\n",
    "print(train_df.head())"
   ]
  },
  {
   "cell_type": "code",
   "execution_count": 5,
   "id": "5ccb057a",
   "metadata": {},
   "outputs": [
    {
     "name": "stdout",
     "output_type": "stream",
     "text": [
      "disease_map created!\n",
      "Categories:\n",
      "Category 0\n",
      "Category 1\n",
      "Category 2\n",
      "Category 3\n",
      "Category 4\n",
      "Category 5\n"
     ]
    }
   ],
   "source": [
    "# Create disease_map (BI-RADS categories from CSV labels)\n",
    "disease_map = \"\"\"Category 0\n",
    "Category 1\n",
    "Category 2\n",
    "Category 3\n",
    "Category 4\n",
    "Category 5\"\"\"\n",
    "\n",
    "with open(output_path / \"PEAC/official/disease_map\", \"w\") as f:\n",
    "    f.write(disease_map)\n",
    "\n",
    "print(\"disease_map created!\")\n",
    "print(\"Categories:\")\n",
    "print(disease_map)"
   ]
  },
  {
   "cell_type": "code",
   "execution_count": 8,
   "id": "46f25bb9",
   "metadata": {},
   "outputs": [],
   "source": [
    "# Map BI-RADS categories to disease presence\n",
    "def create_disease_labels(label):\n",
    "    \"\"\"\n",
    "    Create 14 disease binary labels based on BI-RADS category\n",
    "    label: 0-5 (BI-RADS categories)\n",
    "    Returns: list of 14 binary values\n",
    "    \"\"\"\n",
    "    # Initialize all as 0\n",
    "    diseases = [0] * 6\n",
    "    \n",
    "    # Map BI-RADS category to binary columns (0-5)\n",
    "    label = int(label)\n",
    "    if 0 <= label <= 5:\n",
    "        diseases[label] = 1\n",
    "    \n",
    "    return diseases"
   ]
  },
  {
   "cell_type": "code",
   "execution_count": 1,
   "id": "54cf5883",
   "metadata": {},
   "outputs": [
    {
     "name": "stderr",
     "output_type": "stream",
     "text": [
      "/home/stoneyew/Desktop/pacs/.venv/lib/python3.10/site-packages/tqdm/auto.py:21: TqdmWarning: IProgress not found. Please update jupyter and ipywidgets. See https://ipywidgets.readthedocs.io/en/stable/user_install.html\n",
      "  from .autonotebook import tqdm as notebook_tqdm\n"
     ]
    },
    {
     "name": "stdout",
     "output_type": "stream",
     "text": [
      "['maxvit_base_tf_224', 'maxvit_base_tf_384', 'maxvit_base_tf_512', 'maxvit_large_tf_224', 'maxvit_large_tf_384', 'maxvit_large_tf_512', 'maxvit_nano_rw_256', 'maxvit_pico_rw_256', 'maxvit_rmlp_base_rw_224', 'maxvit_rmlp_base_rw_384', 'maxvit_rmlp_nano_rw_256', 'maxvit_rmlp_pico_rw_256', 'maxvit_rmlp_small_rw_224', 'maxvit_rmlp_small_rw_256', 'maxvit_rmlp_tiny_rw_256', 'maxvit_small_tf_224', 'maxvit_small_tf_384', 'maxvit_small_tf_512', 'maxvit_tiny_pm_256', 'maxvit_tiny_rw_224', 'maxvit_tiny_rw_256', 'maxvit_tiny_tf_224', 'maxvit_tiny_tf_384', 'maxvit_tiny_tf_512', 'maxvit_xlarge_tf_224', 'maxvit_xlarge_tf_384', 'maxvit_xlarge_tf_512']\n"
     ]
    }
   ],
   "source": [
    "import timm\n",
    "print(timm.list_models(\"maxvit*\"))"
   ]
  }
 ],
 "metadata": {
  "kernelspec": {
   "display_name": "pacs",
   "language": "python",
   "name": "python3"
  },
  "language_info": {
   "codemirror_mode": {
    "name": "ipython",
    "version": 3
   },
   "file_extension": ".py",
   "mimetype": "text/x-python",
   "name": "python",
   "nbconvert_exporter": "python",
   "pygments_lexer": "ipython3",
   "version": "3.10.12"
  }
 },
 "nbformat": 4,
 "nbformat_minor": 5
}
